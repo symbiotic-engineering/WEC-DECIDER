{
 "cells": [
  {
   "cell_type": "markdown",
   "metadata": {},
   "source": [
    "# Convex optimization using CVX"
   ]
  },
  {
   "cell_type": "code",
   "execution_count": 6,
   "metadata": {},
   "outputs": [],
   "source": [
    "import cvxpy as cp\n",
    "import numpy as np"
   ]
  },
  {
   "cell_type": "markdown",
   "metadata": {},
   "source": [
    "# Decision variables\n",
    "x[0] = $F_p$: amplitude of powertrain force (control input) \\\n",
    "x[1] = $\\dot{x}$: amplitude of velocity \\\n",
    "x[2] = $a$: binary indicator for whether powertrain max speed is exceeded"
   ]
  },
  {
   "cell_type": "code",
   "execution_count": 7,
   "metadata": {},
   "outputs": [],
   "source": [
    "x = cp.Variable((3,1),pos=True)"
   ]
  },
  {
   "cell_type": "markdown",
   "metadata": {},
   "source": [
    "# Objective\n",
    "Start by trying to maximize mechanical power (not electrical yet) \\\n",
    "max $F_p  \\dot{x} = \\frac{1}{2} x^T P x $ where $ P = \\begin{bmatrix} 0 & 1 & 0 \\\\ 1 &  0 & 0 \\\\ 0 & 0 & 0 \\end{bmatrix} $ \\\n",
    "This is a quadratic program and it would be ideal to leverage its structure.\n",
    "P has eigenvalues [1, -1, 0] so it is not positive or negative definite and therefore the QP is not convex or concave. Still, since the objective is a posynomial, convexity/concavity are possible in log-log transformation, so we pursue geometric programming and examine the log-log curvature."
   ]
  },
  {
   "cell_type": "code",
   "execution_count": 8,
   "metadata": {},
   "outputs": [
    {
     "name": "stdout",
     "output_type": "stream",
     "text": [
      "Objective curvature:  LOG-LOG CONVEX\n"
     ]
    }
   ],
   "source": [
    "P = np.zeros((3,3))\n",
    "P[0,1] = 1\n",
    "P[1,0] = 1\n",
    "objective = x[0] @ x[1] #cp.quad_form(x, P)\n",
    "print('Objective curvature: ',objective.log_log_curvature)"
   ]
  },
  {
   "cell_type": "markdown",
   "metadata": {},
   "source": [
    "This is a problem: in convex optimization it is allowed to minimize a convex function or maximize a concave function, but not to maximize a convex function"
   ]
  },
  {
   "cell_type": "markdown",
   "metadata": {},
   "source": [
    "# Constraints\n",
    "Let's try to implement the disjunctive constraint $F_p = 0$ if $\\dot{x} \\geq x_{max}$, and $F_p \\leq F_{max}$ otherwise. This is more realistic to generator capabilities than simply constraining the speed to be within some threshold. (This is motivated separately from convexity, I can use this same disjunctive constraint even if the problem isn't convex). With this constraint I expect a solution of $\\dot{x} \\approx \\dot{x}_{max}$, $F_p = F_{max}$, and $a=0$.\n",
    "\\\n",
    "\\\n",
    "This can be implemented with four linear constraints using a \"big M\" formulation and the discrete variable $a \\in \\{0,1\\}$ to control the disjunction: \\\n",
    "$ M a \\geq \\dot{x} - \\dot{x}_{max} $ \\\n",
    "$ M (1 -a) \\geq \\dot{x}_{max} - \\dot{x} $ \\\n",
    "$ F_p \\leq F_{max} + a $ \\\n",
    "$ F_p \\leq M_2 (1 - a) $"
   ]
  },
  {
   "cell_type": "code",
   "execution_count": 11,
   "metadata": {},
   "outputs": [
    {
     "name": "stdout",
     "output_type": "stream",
     "text": [
      "constraint is GDP:  [False]\n",
      "Ax-b curvature:  UNKNOWN\n"
     ]
    }
   ],
   "source": [
    "xdotmax = 3\n",
    "Fmax = 5\n",
    "M = 1e3\n",
    "M2 = Fmax + 1\n",
    "\n",
    "A = np.array([[0, 1, -M], [0, -1, M], [1, 0, -1], [1, 0, M2]])\n",
    "b = np.array([[xdotmax], [-xdotmax + M], [Fmax], [M2]])\n",
    "\n",
    "constraints = [A @ x <= b]\n",
    "is_gdp = [constraint.is_dgp() for constraint in constraints]\n",
    "print('constraint is GDP: ',is_gdp)\n",
    "print('Ax-b curvature: ',(A@x-b).log_log_curvature)\n"
   ]
  },
  {
   "cell_type": "markdown",
   "metadata": {},
   "source": [
    "It is also a problem that the constraint does not have known curvature, which is required for convexity via geometric programming.\n",
    "# Solver\n",
    "Despite the known problems with the objective and constraints, we try solving the problem anyway to see what happens. We get an error as expected."
   ]
  },
  {
   "cell_type": "code",
   "execution_count": 10,
   "metadata": {},
   "outputs": [
    {
     "name": "stdout",
     "output_type": "stream",
     "text": [
      "problem iS GDP:  False\n"
     ]
    },
    {
     "ename": "DGPError",
     "evalue": "Problem does not follow DGP rules.The objective is not DGP, even though each sub-expression is.\nYou are trying to maximize a function that is log_log_convex.",
     "output_type": "error",
     "traceback": [
      "\u001b[1;31m---------------------------------------------------------------------------\u001b[0m",
      "\u001b[1;31mDGPError\u001b[0m                                  Traceback (most recent call last)",
      "\u001b[1;32mc:\\Users\\rgm222\\Documents\\Github\\SEA-Lab\\WEC-DECIDER\\convex_attempt.ipynb Cell 11\u001b[0m line \u001b[0;36m3\n\u001b[0;32m      <a href='vscode-notebook-cell:/c%3A/Users/rgm222/Documents/Github/SEA-Lab/WEC-DECIDER/convex_attempt.ipynb#X13sZmlsZQ%3D%3D?line=0'>1</a>\u001b[0m problem \u001b[39m=\u001b[39m cp\u001b[39m.\u001b[39mProblem(cp\u001b[39m.\u001b[39mMaximize(objective), constraints)\n\u001b[0;32m      <a href='vscode-notebook-cell:/c%3A/Users/rgm222/Documents/Github/SEA-Lab/WEC-DECIDER/convex_attempt.ipynb#X13sZmlsZQ%3D%3D?line=1'>2</a>\u001b[0m \u001b[39mprint\u001b[39m(\u001b[39m'\u001b[39m\u001b[39mproblem iS GDP: \u001b[39m\u001b[39m'\u001b[39m,problem\u001b[39m.\u001b[39mis_dgp())\n\u001b[1;32m----> <a href='vscode-notebook-cell:/c%3A/Users/rgm222/Documents/Github/SEA-Lab/WEC-DECIDER/convex_attempt.ipynb#X13sZmlsZQ%3D%3D?line=2'>3</a>\u001b[0m problem\u001b[39m.\u001b[39;49msolve(gp\u001b[39m=\u001b[39;49m\u001b[39mTrue\u001b[39;49;00m)\n\u001b[0;32m      <a href='vscode-notebook-cell:/c%3A/Users/rgm222/Documents/Github/SEA-Lab/WEC-DECIDER/convex_attempt.ipynb#X13sZmlsZQ%3D%3D?line=4'>5</a>\u001b[0m \u001b[39mprint\u001b[39m(\u001b[39m\"\u001b[39m\u001b[39mOptimal value: \u001b[39m\u001b[39m\"\u001b[39m, problem\u001b[39m.\u001b[39mvalue)\n\u001b[0;32m      <a href='vscode-notebook-cell:/c%3A/Users/rgm222/Documents/Github/SEA-Lab/WEC-DECIDER/convex_attempt.ipynb#X13sZmlsZQ%3D%3D?line=5'>6</a>\u001b[0m \u001b[39mprint\u001b[39m(\u001b[39m\"\u001b[39m\u001b[39mFp: \u001b[39m\u001b[39m\"\u001b[39m, x[\u001b[39m0\u001b[39m]\u001b[39m.\u001b[39mvalue)\n",
      "File \u001b[1;32mc:\\Users\\rgm222\\Anaconda3\\envs\\cvxpy_env\\Lib\\site-packages\\cvxpy\\problems\\problem.py:503\u001b[0m, in \u001b[0;36mProblem.solve\u001b[1;34m(self, *args, **kwargs)\u001b[0m\n\u001b[0;32m    501\u001b[0m \u001b[39melse\u001b[39;00m:\n\u001b[0;32m    502\u001b[0m     solve_func \u001b[39m=\u001b[39m Problem\u001b[39m.\u001b[39m_solve\n\u001b[1;32m--> 503\u001b[0m \u001b[39mreturn\u001b[39;00m solve_func(\u001b[39mself\u001b[39;49m, \u001b[39m*\u001b[39;49margs, \u001b[39m*\u001b[39;49m\u001b[39m*\u001b[39;49mkwargs)\n",
      "File \u001b[1;32mc:\\Users\\rgm222\\Anaconda3\\envs\\cvxpy_env\\Lib\\site-packages\\cvxpy\\problems\\problem.py:1072\u001b[0m, in \u001b[0;36mProblem._solve\u001b[1;34m(self, solver, warm_start, verbose, gp, qcp, requires_grad, enforce_dpp, ignore_dpp, canon_backend, **kwargs)\u001b[0m\n\u001b[0;32m   1069\u001b[0m         \u001b[39mself\u001b[39m\u001b[39m.\u001b[39munpack(chain\u001b[39m.\u001b[39mretrieve(soln))\n\u001b[0;32m   1070\u001b[0m         \u001b[39mreturn\u001b[39;00m \u001b[39mself\u001b[39m\u001b[39m.\u001b[39mvalue\n\u001b[1;32m-> 1072\u001b[0m data, solving_chain, inverse_data \u001b[39m=\u001b[39m \u001b[39mself\u001b[39;49m\u001b[39m.\u001b[39;49mget_problem_data(\n\u001b[0;32m   1073\u001b[0m     solver, gp, enforce_dpp, ignore_dpp, verbose, canon_backend, kwargs\n\u001b[0;32m   1074\u001b[0m )\n\u001b[0;32m   1076\u001b[0m \u001b[39mif\u001b[39;00m verbose:\n\u001b[0;32m   1077\u001b[0m     \u001b[39mprint\u001b[39m(_NUM_SOLVER_STR)\n",
      "File \u001b[1;32mc:\\Users\\rgm222\\Anaconda3\\envs\\cvxpy_env\\Lib\\site-packages\\cvxpy\\problems\\problem.py:646\u001b[0m, in \u001b[0;36mProblem.get_problem_data\u001b[1;34m(self, solver, gp, enforce_dpp, ignore_dpp, verbose, canon_backend, solver_opts)\u001b[0m\n\u001b[0;32m    644\u001b[0m \u001b[39mif\u001b[39;00m key \u001b[39m!=\u001b[39m \u001b[39mself\u001b[39m\u001b[39m.\u001b[39m_cache\u001b[39m.\u001b[39mkey:\n\u001b[0;32m    645\u001b[0m     \u001b[39mself\u001b[39m\u001b[39m.\u001b[39m_cache\u001b[39m.\u001b[39minvalidate()\n\u001b[1;32m--> 646\u001b[0m     solving_chain \u001b[39m=\u001b[39m \u001b[39mself\u001b[39;49m\u001b[39m.\u001b[39;49m_construct_chain(\n\u001b[0;32m    647\u001b[0m         solver\u001b[39m=\u001b[39;49msolver, gp\u001b[39m=\u001b[39;49mgp,\n\u001b[0;32m    648\u001b[0m         enforce_dpp\u001b[39m=\u001b[39;49menforce_dpp,\n\u001b[0;32m    649\u001b[0m         ignore_dpp\u001b[39m=\u001b[39;49mignore_dpp,\n\u001b[0;32m    650\u001b[0m         canon_backend\u001b[39m=\u001b[39;49mcanon_backend,\n\u001b[0;32m    651\u001b[0m         solver_opts\u001b[39m=\u001b[39;49msolver_opts)\n\u001b[0;32m    652\u001b[0m     \u001b[39mself\u001b[39m\u001b[39m.\u001b[39m_cache\u001b[39m.\u001b[39mkey \u001b[39m=\u001b[39m key\n\u001b[0;32m    653\u001b[0m     \u001b[39mself\u001b[39m\u001b[39m.\u001b[39m_cache\u001b[39m.\u001b[39msolving_chain \u001b[39m=\u001b[39m solving_chain\n",
      "File \u001b[1;32mc:\\Users\\rgm222\\Anaconda3\\envs\\cvxpy_env\\Lib\\site-packages\\cvxpy\\problems\\problem.py:898\u001b[0m, in \u001b[0;36mProblem._construct_chain\u001b[1;34m(self, solver, gp, enforce_dpp, ignore_dpp, canon_backend, solver_opts)\u001b[0m\n\u001b[0;32m    896\u001b[0m candidate_solvers \u001b[39m=\u001b[39m \u001b[39mself\u001b[39m\u001b[39m.\u001b[39m_find_candidate_solvers(solver\u001b[39m=\u001b[39msolver, gp\u001b[39m=\u001b[39mgp)\n\u001b[0;32m    897\u001b[0m \u001b[39mself\u001b[39m\u001b[39m.\u001b[39m_sort_candidate_solvers(candidate_solvers)\n\u001b[1;32m--> 898\u001b[0m \u001b[39mreturn\u001b[39;00m construct_solving_chain(\u001b[39mself\u001b[39;49m, candidate_solvers, gp\u001b[39m=\u001b[39;49mgp,\n\u001b[0;32m    899\u001b[0m                                enforce_dpp\u001b[39m=\u001b[39;49menforce_dpp,\n\u001b[0;32m    900\u001b[0m                                ignore_dpp\u001b[39m=\u001b[39;49mignore_dpp,\n\u001b[0;32m    901\u001b[0m                                canon_backend\u001b[39m=\u001b[39;49mcanon_backend,\n\u001b[0;32m    902\u001b[0m                                solver_opts\u001b[39m=\u001b[39;49msolver_opts,\n\u001b[0;32m    903\u001b[0m                                specified_solver\u001b[39m=\u001b[39;49msolver)\n",
      "File \u001b[1;32mc:\\Users\\rgm222\\Anaconda3\\envs\\cvxpy_env\\Lib\\site-packages\\cvxpy\\reductions\\solvers\\solving_chain.py:217\u001b[0m, in \u001b[0;36mconstruct_solving_chain\u001b[1;34m(problem, candidates, gp, enforce_dpp, ignore_dpp, canon_backend, solver_opts, specified_solver)\u001b[0m\n\u001b[0;32m    215\u001b[0m \u001b[39mif\u001b[39;00m \u001b[39mlen\u001b[39m(problem\u001b[39m.\u001b[39mvariables()) \u001b[39m==\u001b[39m \u001b[39m0\u001b[39m:\n\u001b[0;32m    216\u001b[0m     \u001b[39mreturn\u001b[39;00m SolvingChain(reductions\u001b[39m=\u001b[39m[ConstantSolver()])\n\u001b[1;32m--> 217\u001b[0m reductions \u001b[39m=\u001b[39m _reductions_for_problem_class(problem, candidates, gp, solver_opts)\n\u001b[0;32m    219\u001b[0m \u001b[39m# Process DPP status of the problem.\u001b[39;00m\n\u001b[0;32m    220\u001b[0m dpp_context \u001b[39m=\u001b[39m \u001b[39m'\u001b[39m\u001b[39mdcp\u001b[39m\u001b[39m'\u001b[39m \u001b[39mif\u001b[39;00m \u001b[39mnot\u001b[39;00m gp \u001b[39melse\u001b[39;00m \u001b[39m'\u001b[39m\u001b[39mdgp\u001b[39m\u001b[39m'\u001b[39m\n",
      "File \u001b[1;32mc:\\Users\\rgm222\\Anaconda3\\envs\\cvxpy_env\\Lib\\site-packages\\cvxpy\\reductions\\solvers\\solving_chain.py:142\u001b[0m, in \u001b[0;36m_reductions_for_problem_class\u001b[1;34m(problem, candidates, gp, solver_opts)\u001b[0m\n\u001b[0;32m    139\u001b[0m     \u001b[39melif\u001b[39;00m problem\u001b[39m.\u001b[39mis_dqcp():\n\u001b[0;32m    140\u001b[0m         append \u001b[39m+\u001b[39m\u001b[39m=\u001b[39m (\u001b[39m\"\u001b[39m\u001b[39m\\n\u001b[39;00m\u001b[39mHowever, the problem does follow DQCP rules. \u001b[39m\u001b[39m\"\u001b[39m\n\u001b[0;32m    141\u001b[0m                    \u001b[39m\"\u001b[39m\u001b[39mConsider calling solve() with `qcp=True`.\u001b[39m\u001b[39m\"\u001b[39m)\n\u001b[1;32m--> 142\u001b[0m     \u001b[39mraise\u001b[39;00m DGPError(\u001b[39m\"\u001b[39m\u001b[39mProblem does not follow DGP rules.\u001b[39m\u001b[39m\"\u001b[39m \u001b[39m+\u001b[39m append)\n\u001b[0;32m    144\u001b[0m \u001b[39m# Dcp2Cone and Qp2SymbolicQp require problems to minimize their objectives.\u001b[39;00m\n\u001b[0;32m    145\u001b[0m \u001b[39mif\u001b[39;00m \u001b[39mtype\u001b[39m(problem\u001b[39m.\u001b[39mobjective) \u001b[39m==\u001b[39m Maximize:\n",
      "\u001b[1;31mDGPError\u001b[0m: Problem does not follow DGP rules.The objective is not DGP, even though each sub-expression is.\nYou are trying to maximize a function that is log_log_convex."
     ]
    }
   ],
   "source": [
    "problem = cp.Problem(cp.Maximize(objective), constraints)\n",
    "print('problem iS GDP: ',problem.is_dgp())\n",
    "problem.solve(gp=True)\n",
    "\n",
    "print(\"Optimal value: \", problem.value)\n",
    "print(\"Fp: \", x[0].value)\n",
    "print(\"xdot: \", x[1].value)\n",
    "print(\"a: \", x[2].value)"
   ]
  },
  {
   "cell_type": "markdown",
   "metadata": {},
   "source": [
    "# Conclusion\n",
    "This has shown that the problem can't be solved as a convex quadratic program or geometric program as-is. Possible next steps:\n",
    "1) Find another way to make the problem convex. For example, Zhong and Yeung 2018 (OMAE) shows that constraining the slew rate of PTO force can guarantee convexity for a single WEC, and Zhong and Yeung 2022 (Ocean Engineering) shows that constraining reactive power to zero (pure damping control) can guarantee convexity for an array.\n",
    "2) Give up on convexity and try to solve it as a nonconvex QP with a different solver, which should still be faster than solving it as a NLP but would not have the benefits of convexity such as \"free\" sensitivities or global optimiality.\n",
    "3) Give up on trying to leverage the QP structure, and use the current NLP solvers like SLSQP and interior point."
   ]
  }
 ],
 "metadata": {
  "kernelspec": {
   "display_name": "cvxpy_env",
   "language": "python",
   "name": "python3"
  },
  "language_info": {
   "codemirror_mode": {
    "name": "ipython",
    "version": 3
   },
   "file_extension": ".py",
   "mimetype": "text/x-python",
   "name": "python",
   "nbconvert_exporter": "python",
   "pygments_lexer": "ipython3",
   "version": "3.11.6"
  }
 },
 "nbformat": 4,
 "nbformat_minor": 2
}
