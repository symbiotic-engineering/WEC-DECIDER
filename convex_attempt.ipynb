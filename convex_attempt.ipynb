{
 "cells": [
  {
   "cell_type": "markdown",
   "metadata": {},
   "source": [
    "# Convex optimization using CVX"
   ]
  },
  {
   "cell_type": "code",
   "execution_count": 125,
   "metadata": {},
   "outputs": [],
   "source": [
    "import cvxpy as cp\n",
    "import numpy as np"
   ]
  },
  {
   "cell_type": "markdown",
   "metadata": {},
   "source": [
    "# Decision variables\n",
    "x[0] = $F_p$: amplitude of powertrain force (control input) \\\n",
    "x[1] = $\\dot{x}$: amplitude of velocity \\\n",
    "x[2] = $a$: binary indicator for whether powertrain max speed is exceeded"
   ]
  },
  {
   "cell_type": "code",
   "execution_count": 126,
   "metadata": {},
   "outputs": [],
   "source": [
    "Fp = cp.Variable(pos=True)\n",
    "xdot = cp.Variable(pos=True)\n",
    "a = cp.Variable(pos=True)#boolean=True)\n",
    "x = cp.vstack([Fp,xdot,a])"
   ]
  },
  {
   "cell_type": "markdown",
   "metadata": {},
   "source": [
    "# Objective\n",
    "Start by trying to maximize mechanical power (not electrical yet) \\\n",
    "max $F_p  \\dot{x} = \\frac{1}{2} x^T P x $ where $ P = \\begin{bmatrix} 0 & 1 & 0 \\\\ 1 &  0 & 0 \\\\ 0 & 0 & 0 \\end{bmatrix} $ \\\n",
    "This is a quadratic program and it would be ideal to leverage its structure.\n",
    "P has eigenvalues [1, -1, 0] so it is not positive or negative definite and therefore the QP is not convex or concave. Still, since the objective is a posynomial, convexity/concavity are possible in log-log transformation, so we pursue geometric programming and examine the log-log curvature."
   ]
  },
  {
   "cell_type": "code",
   "execution_count": 127,
   "metadata": {},
   "outputs": [
    {
     "name": "stdout",
     "output_type": "stream",
     "text": [
      "Objective curvature:  LOG-LOG CONVEX\n",
      "Objective curvature:  CONVEX\n"
     ]
    }
   ],
   "source": [
    "P = np.zeros((3,3))\n",
    "P[0,1] = 1\n",
    "P[1,0] = 1\n",
    "objective = x[0] @ x[1] #cp.quad_form(x, P)\n",
    "objective_2 = cp.inv_prod(x[0:2])\n",
    "print('Objective curvature: ',objective.curvature)\n",
    "print('Objective curvature: ',objective_2.curvature)"
   ]
  },
  {
   "cell_type": "markdown",
   "metadata": {},
   "source": [
    "This is a problem: in convex optimization it is allowed to minimize a convex function or maximize a concave function, but not to maximize a convex function"
   ]
  },
  {
   "cell_type": "markdown",
   "metadata": {},
   "source": [
    "# Constraints\n",
    "Let's try to implement the disjunctive constraint $F_p = 0$ if $\\dot{x} \\geq x_{max}$, and $F_p \\leq F_{max}$ otherwise. This is more realistic to generator capabilities than simply constraining the speed to be within some threshold. (This is motivated separately from convexity, I can use this same disjunctive constraint even if the problem isn't convex). With this constraint I expect a solution of $\\dot{x} \\approx \\dot{x}_{max}$, $F_p = F_{max}$, and $a=0$.\n",
    "\\\n",
    "\\\n",
    "This can be implemented with four linear constraints using a \"big M\" formulation and the discrete variable $a \\in \\{0,1\\}$ to control the disjunction: \\\n",
    "$ M a \\geq \\dot{x} - \\dot{x}_{max} $ \\\n",
    "$ M (1 -a) \\geq \\dot{x}_{max} - \\dot{x} $ \\\n",
    "$ F_p \\leq F_{max} + a $ \\\n",
    "$ F_p \\leq M_2 (1 - a) $"
   ]
  },
  {
   "cell_type": "code",
   "execution_count": 128,
   "metadata": {},
   "outputs": [
    {
     "name": "stdout",
     "output_type": "stream",
     "text": [
      "constraint is GDP:  [True, True, False]\n",
      "Ax-b curvature:  AFFINE\n"
     ]
    }
   ],
   "source": [
    "xdotmax = 3\n",
    "Fmax = 5\n",
    "M = 1e3\n",
    "M2 = Fmax + 1\n",
    "\n",
    "A = np.array([[0, 1, -M], [0, -1, M], [1, 0, -1], [1, 0, M2]])\n",
    "b = np.array([[xdotmax], [-xdotmax + M], [Fmax], [M2]])\n",
    "\n",
    "#constraints = [A @ x <= b]\n",
    "constraints = [Fp <= Fmax, xdot <= xdotmax, a <= 0]\n",
    "#print([constraint for constraint in constraints])\n",
    "is_gdp = [constraint.is_dgp() for constraint in constraints]\n",
    "print('constraint is GDP: ',is_gdp)\n",
    "print('Ax-b curvature: ',(A@x-b).curvature)\n"
   ]
  },
  {
   "cell_type": "markdown",
   "metadata": {},
   "source": [
    "It is also a problem that the constraint does not have known curvature, which is required for convexity via geometric programming.\n",
    "# Solver\n",
    "Despite the known problems with the objective and constraints, we try solving the problem anyway to see what happens. We get an error as expected."
   ]
  },
  {
   "cell_type": "code",
   "execution_count": 129,
   "metadata": {},
   "outputs": [
    {
     "name": "stdout",
     "output_type": "stream",
     "text": [
      "problem iS GDP:  False\n",
      "problem is DCP:  True\n",
      "(CVXPY) Nov 26 10:27:14 PM: Encountered unexpected exception importing solver OSQP:\n",
      "ImportError('DLL load failed while importing qdldl: The specified module could not be found.')\n",
      "['CLARABEL', 'CVXOPT', 'ECOS', 'ECOS_BB', 'GLPK', 'GLPK_MI', 'SCIP', 'SCIPY', 'SCS']\n",
      "===============================================================================\n",
      "                                     CVXPY                                     \n",
      "                                     v1.4.1                                    \n",
      "===============================================================================\n",
      "(CVXPY) Nov 26 10:27:14 PM: Your problem has 3 variables, 3 constraints, and 0 parameters.\n",
      "(CVXPY) Nov 26 10:27:14 PM: It is compliant with the following grammars: DCP, DQCP\n",
      "(CVXPY) Nov 26 10:27:14 PM: (If you need to solve this problem multiple times, but with different data, consider using parameters.)\n",
      "(CVXPY) Nov 26 10:27:14 PM: CVXPY will first compile your problem; then, it will invoke a numerical solver to obtain a solution.\n",
      "(CVXPY) Nov 26 10:27:14 PM: Your problem is compiled with the CPP canonicalization backend.\n",
      "-------------------------------------------------------------------------------\n",
      "                                  Compilation                                  \n",
      "-------------------------------------------------------------------------------\n",
      "(CVXPY) Nov 26 10:27:14 PM: Compiling problem (target solver=ECOS).\n",
      "(CVXPY) Nov 26 10:27:14 PM: Reduction chain: Dcp2Cone -> CvxAttr2Constr -> ConeMatrixStuffing -> ECOS\n",
      "(CVXPY) Nov 26 10:27:14 PM: Applying reduction Dcp2Cone\n",
      "(CVXPY) Nov 26 10:27:14 PM: Applying reduction CvxAttr2Constr\n",
      "(CVXPY) Nov 26 10:27:14 PM: Applying reduction ConeMatrixStuffing\n",
      "(CVXPY) Nov 26 10:27:14 PM: Applying reduction ECOS\n",
      "(CVXPY) Nov 26 10:27:14 PM: Finished problem compilation (took 4.800e-02 seconds).\n",
      "-------------------------------------------------------------------------------\n",
      "                                Numerical solver                               \n",
      "-------------------------------------------------------------------------------\n",
      "(CVXPY) Nov 26 10:27:14 PM: Invoking solver ECOS  to obtain a solution.\n",
      "-------------------------------------------------------------------------------\n",
      "                                    Summary                                    \n",
      "-------------------------------------------------------------------------------\n",
      "(CVXPY) Nov 26 10:27:14 PM: Problem status: optimal\n",
      "(CVXPY) Nov 26 10:27:14 PM: Optimal value: 1.721e-02\n",
      "(CVXPY) Nov 26 10:27:14 PM: Compilation took 4.800e-02 seconds\n",
      "(CVXPY) Nov 26 10:27:14 PM: Solver (including time spent in interface) took 1.600e-02 seconds\n",
      "Optimal value:  0.017213259939098544\n",
      "Fp:  [4.99999994]\n",
      "xdot:  [2.99999996]\n",
      "a:  [0.]\n"
     ]
    }
   ],
   "source": [
    "problem = cp.Problem(cp.Minimize(objective_2), constraints)\n",
    "print('problem iS GDP: ',problem.is_dgp())\n",
    "print('problem is DCP: ',problem.is_dcp())\n",
    "print(cp.installed_solvers())\n",
    "problem.solve(verbose=True)#gp=True)\n",
    "\n",
    "print(\"Optimal value: \", problem.value)\n",
    "print(\"Fp: \", x[0].value)\n",
    "print(\"xdot: \", x[1].value)\n",
    "print(\"a: \", x[2].value)"
   ]
  },
  {
   "cell_type": "markdown",
   "metadata": {},
   "source": [
    "# Conclusion\n",
    "This has shown that the problem can't be solved as a convex quadratic program or geometric program as-is. Possible next steps:\n",
    "1) Find another way to make the problem convex. For example, Zhong and Yeung 2018 (OMAE) shows that constraining the slew rate of PTO force can guarantee convexity for a single WEC, and Zhong and Yeung 2022 (Ocean Engineering) shows that constraining reactive power to zero (pure damping control) can guarantee convexity for an array.\n",
    "2) Give up on convexity and try to solve it as a nonconvex QP with a different solver, which should still be faster than solving it as a NLP but would not have the benefits of convexity such as \"free\" sensitivities or global optimiality.\n",
    "3) Give up on trying to leverage the QP structure, and use the current NLP solvers like SLSQP and interior point."
   ]
  }
 ],
 "metadata": {
  "kernelspec": {
   "display_name": "cvxpy_env",
   "language": "python",
   "name": "python3"
  },
  "language_info": {
   "codemirror_mode": {
    "name": "ipython",
    "version": 3
   },
   "file_extension": ".py",
   "mimetype": "text/x-python",
   "name": "python",
   "nbconvert_exporter": "python",
   "pygments_lexer": "ipython3",
   "version": "3.11.6"
  }
 },
 "nbformat": 4,
 "nbformat_minor": 2
}
