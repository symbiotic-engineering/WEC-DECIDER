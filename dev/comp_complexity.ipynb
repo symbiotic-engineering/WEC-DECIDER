{
 "cells": [
  {
   "cell_type": "code",
   "execution_count": null,
   "id": "83e61c61",
   "metadata": {},
   "outputs": [],
   "source": [
    "# Define constants for optimization\n",
    "num_dvs_continuous = 10\n",
    "num_iterations_gradient = 50\n",
    "num_iterations_heuristic = 200\n",
    "\n",
    "# Define constants for capytaine\n",
    "num_freqs = 10\n",
    "num_bodies = 1\n",
    "num_dofs = 6\n",
    "num_panels_per_body = 1000\n",
    "num_hydro_matrices = 3 # excitation, damping, added mass\n",
    "\n",
    "# Equations for capytaine\n",
    "num_panels = num_panels_per_body * num_bodies\n",
    "time_cpy_solve_1w = 10e-8 * num_panels**3 # O(N^3), and 1000 panels takes 10 seconds\n",
    "hydro_matrix_size = num_dofs**2 * num_bodies**2\n",
    "num_hydro_outputs = hydro_matrix_size * num_freqs * num_hydro_matrices\n",
    "\n",
    "# equations for BEM-in-the-loop runtime\n",
    "time_cpy_solve = time_cpy_solve_1w * num_freqs\n",
    "time_gradient_finitediff = 2 * num_dvs_continuous * time_cpy_solve * num_iterations_gradient\n",
    "time_gradient_reverse_adjoint = 2 * num_hydro_outputs * time_cpy_solve * num_iterations_gradient\n",
    "time_gradient_forward_adjoint = 2 * num_dvs_continuous * time_cpy_solve * num_iterations_gradient\n",
    "time_heuristic = time_cpy_solve * num_iterations_heuristic\n",
    "\n",
    "# comparison of options "
   ]
  }
 ],
 "metadata": {
  "kernelspec": {
   "display_name": "Python [conda env:root] *",
   "language": "python",
   "name": "conda-root-py"
  },
  "language_info": {
   "codemirror_mode": {
    "name": "ipython",
    "version": 3
   },
   "file_extension": ".py",
   "mimetype": "text/x-python",
   "name": "python",
   "nbconvert_exporter": "python",
   "pygments_lexer": "ipython3",
   "version": "3.9.16"
  }
 },
 "nbformat": 4,
 "nbformat_minor": 5
}
