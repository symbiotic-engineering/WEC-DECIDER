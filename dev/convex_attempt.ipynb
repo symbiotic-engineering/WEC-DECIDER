{
 "cells": [
  {
   "cell_type": "markdown",
   "metadata": {},
   "source": [
    "# Convex optimization using CVX"
   ]
  },
  {
   "cell_type": "code",
   "execution_count": 50,
   "metadata": {},
   "outputs": [],
   "source": [
    "import cvxpy as cp\n",
    "import numpy as np\n",
    "import pyscipopt"
   ]
  },
  {
   "cell_type": "markdown",
   "metadata": {},
   "source": [
    "# Decision variables\n",
    "x[0] = $F_p$: amplitude of powertrain force (control input) \\\n",
    "x[1] = $\\dot{x}$: amplitude of velocity \\\n",
    "x[2] = $a$: binary indicator for whether powertrain max speed is exceeded"
   ]
  },
  {
   "cell_type": "code",
   "execution_count": 51,
   "metadata": {},
   "outputs": [],
   "source": [
    "Fp = cp.Variable(pos=True)\n",
    "xdot = cp.Variable(pos=True)\n",
    "a = cp.Variable(boolean=True)\n",
    "x = cp.vstack([Fp,xdot,a])"
   ]
  },
  {
   "cell_type": "markdown",
   "metadata": {},
   "source": [
    "# Objective\n",
    "Start by trying to maximize mechanical power (not electrical yet) \\\n",
    "max $F_p  \\dot{x} = \\frac{1}{2} x^T P x $ where $ P = \\begin{bmatrix} 0 & 1 & 0 \\\\ 1 &  0 & 0 \\\\ 0 & 0 & 0 \\end{bmatrix} $ \\\n",
    "This (objective 0) is a quadratic program and it would be ideal to leverage its structure.\n",
    "P has eigenvalues [1, -1, 0] so it is not positive or negative definite and therefore the QP is not convex or concave. Still, since the objective is a posynomial, convexity/concavity are possible in log-log transformation, so we pursue geometric programming and examine the log-log curvature (objective 1). We also try restricting the domain and optimizing either the inverse or the square root of power (objectives 2 and 3 respectively)."
   ]
  },
  {
   "cell_type": "code",
   "execution_count": 52,
   "metadata": {},
   "outputs": [
    {
     "name": "stdout",
     "output_type": "stream",
     "text": [
      "Objective 0 curvature:  UNKNOWN\n",
      "Objective 1 curvature:  LOG-LOG AFFINE\n",
      "Objective 2 curvature:  CONVEX\n",
      "Objective 3 curvature:  CONCAVE\n",
      "Objective 1 is log-log convex:  True\n",
      "Objective 2 is convex:  True\n",
      "Objective 3 is convex:  True\n"
     ]
    }
   ],
   "source": [
    "P = np.zeros((3,3))\n",
    "P[0,1] = 1\n",
    "P[1,0] = 1\n",
    "objective_0 = cp.quad_form(x, P)\n",
    "objective_1 = Fp * xdot\n",
    "objective_2 = cp.inv_prod(x[0:2]) #objective_2 = cp.inv_pos(cp.inv_prod(x[0:2]))\n",
    "objective_3 = cp.geo_mean(x[0:2])\n",
    "print('Objective 0 curvature: ',objective_0.curvature)\n",
    "print('Objective 1 curvature: ',objective_1.curvature)\n",
    "print('Objective 2 curvature: ',objective_2.curvature)\n",
    "print('Objective 3 curvature: ',objective_3.curvature)\n",
    "\n",
    "objective_1 = cp.Maximize(objective_1) # max power\n",
    "objective_2 = cp.Minimize(objective_2) # min 1/power\n",
    "objective_3 = cp.Maximize(objective_3) # max sqrt(power)\n",
    "print('Objective 1 is log-log convex: ',objective_1.is_dgp())\n",
    "print('Objective 2 is convex: ',objective_2.is_dcp())\n",
    "print('Objective 3 is convex: ',objective_3.is_dcp())"
   ]
  },
  {
   "cell_type": "markdown",
   "metadata": {},
   "source": [
    "# Constraints\n",
    "Let's try to implement the disjunctive constraint $F_p = 0$ if $\\dot{x} \\geq x_{max}$, and $F_p \\leq F_{max}$ otherwise. This is more realistic to generator capabilities than simply constraining the speed to be within some threshold. (This is motivated separately from convexity, I can use this same disjunctive constraint even if the problem isn't convex). With this constraint I expect a solution of $\\dot{x} \\approx \\dot{x}_{max}$, $F_p = F_{max}$, and $a=0$.\n",
    "\\\n",
    "\\\n",
    "This can be implemented with four linear constraints using a \"big M\" formulation and the discrete variable $a \\in \\{0,1\\}$ to control the disjunction: \\\n",
    "$ M a \\geq \\dot{x} - \\dot{x}_{max} $ \\\n",
    "$ M (1 -a) \\geq \\dot{x}_{max} - \\dot{x} $ \\\n",
    "$ F_p \\leq F_{max} + a $ \\\n",
    "$ F_p \\leq M_2 (1 - a) $"
   ]
  },
  {
   "cell_type": "code",
   "execution_count": 53,
   "metadata": {},
   "outputs": [
    {
     "name": "stdout",
     "output_type": "stream",
     "text": [
      "constraint is GDP:  [True, True, False]\n",
      "Ax-b curvature:  AFFINE\n"
     ]
    }
   ],
   "source": [
    "xdotmax = 3\n",
    "Fmax = 5\n",
    "M = 1e3\n",
    "M2 = Fmax + 1\n",
    "\n",
    "A = np.array([[0, 1, -M], [0, -1, M], [1, 0, -1], [1, 0, M2]])\n",
    "b = np.array([[xdotmax], [-xdotmax + M], [Fmax], [M2]])\n",
    "\n",
    "#constraints = [A @ x <= b, xdot <= xdotmax + 10]\n",
    "constraints = [Fp <= Fmax, xdot <= xdotmax, a <= 0]\n",
    "\n",
    "is_gdp = [constraint.is_dgp() for constraint in constraints]\n",
    "print('constraint is GDP: ',is_gdp)\n",
    "print('Ax-b curvature: ',(A@x-b).curvature)\n"
   ]
  },
  {
   "cell_type": "markdown",
   "metadata": {},
   "source": [
    "The constraints are all linear so they make the problems in untransformed coordinates (objectives 2 and 3) convex. However, we check whether it is a valid geometric program constraint, and it is not, so objective 1 won't work.\n",
    "# Solver"
   ]
  },
  {
   "cell_type": "code",
   "execution_count": 54,
   "metadata": {},
   "outputs": [
    {
     "name": "stdout",
     "output_type": "stream",
     "text": [
      "Constrained problem iS DGP:  False\n",
      "Constrained problem is DCP:  True\n",
      "(CVXPY) Nov 30 03:20:33 AM: Encountered unexpected exception importing solver OSQP:\n",
      "ImportError('DLL load failed while importing qdldl: The specified module could not be found.')\n",
      "['CLARABEL', 'CVXOPT', 'ECOS', 'ECOS_BB', 'GLPK', 'GLPK_MI', 'SCIP', 'SCIPY', 'SCS']\n",
      "===============================================================================\n",
      "                                     CVXPY                                     \n",
      "                                     v1.4.1                                    \n",
      "===============================================================================\n",
      "(CVXPY) Nov 30 03:20:33 AM: Your problem has 3 variables, 3 constraints, and 0 parameters.\n",
      "(CVXPY) Nov 30 03:20:33 AM: It is compliant with the following grammars: DCP, DQCP\n",
      "(CVXPY) Nov 30 03:20:33 AM: (If you need to solve this problem multiple times, but with different data, consider using parameters.)\n",
      "(CVXPY) Nov 30 03:20:33 AM: CVXPY will first compile your problem; then, it will invoke a numerical solver to obtain a solution.\n",
      "(CVXPY) Nov 30 03:20:33 AM: Your problem is compiled with the CPP canonicalization backend.\n",
      "-------------------------------------------------------------------------------\n",
      "                                  Compilation                                  \n",
      "-------------------------------------------------------------------------------\n",
      "(CVXPY) Nov 30 03:20:33 AM: Compiling problem (target solver=SCIP).\n",
      "(CVXPY) Nov 30 03:20:33 AM: Reduction chain: Dcp2Cone -> CvxAttr2Constr -> Dcp2Cone -> CvxAttr2Constr -> ConeMatrixStuffing -> SCIP\n",
      "(CVXPY) Nov 30 03:20:33 AM: Applying reduction Dcp2Cone\n",
      "(CVXPY) Nov 30 03:20:33 AM: Applying reduction CvxAttr2Constr\n",
      "(CVXPY) Nov 30 03:20:33 AM: Applying reduction Dcp2Cone\n",
      "(CVXPY) Nov 30 03:20:33 AM: Applying reduction CvxAttr2Constr\n",
      "(CVXPY) Nov 30 03:20:33 AM: Applying reduction ConeMatrixStuffing\n",
      "(CVXPY) Nov 30 03:20:33 AM: Applying reduction SCIP\n",
      "(CVXPY) Nov 30 03:20:33 AM: Finished problem compilation (took 4.504e-02 seconds).\n"
     ]
    },
    {
     "name": "stdout",
     "output_type": "stream",
     "text": [
      "-------------------------------------------------------------------------------\n",
      "                                Numerical solver                               \n",
      "-------------------------------------------------------------------------------\n",
      "(CVXPY) Nov 30 03:20:33 AM: Invoking solver SCIP  to obtain a solution.\n",
      "-------------------------------------------------------------------------------\n",
      "                                    Summary                                    \n",
      "-------------------------------------------------------------------------------\n",
      "(CVXPY) Nov 30 03:20:33 AM: Problem status: optimal\n",
      "(CVXPY) Nov 30 03:20:33 AM: Optimal value: 1.721e-02\n",
      "(CVXPY) Nov 30 03:20:33 AM: Compilation took 4.504e-02 seconds\n",
      "(CVXPY) Nov 30 03:20:33 AM: Solver (including time spent in interface) took 1.640e-01 seconds\n",
      "Optimal value:  0.01721325882007964\n",
      "Fp:  [5.00000005]\n",
      "xdot:  [3.00000003]\n",
      "a:  [0.]\n"
     ]
    }
   ],
   "source": [
    "problem = cp.Problem(objective_2, constraints)\n",
    "print('Constrained problem iS DGP: ',problem.is_dgp())\n",
    "print('Constrained problem is DCP: ',problem.is_dcp())\n",
    "print(cp.installed_solvers())\n",
    "problem.solve(verbose=True)#gp=True)\n",
    "\n",
    "print(\"Optimal value: \", problem.value)\n",
    "print(\"Fp: \", x[0].value)\n",
    "print(\"xdot: \", x[1].value)\n",
    "print(\"a: \", x[2].value)"
   ]
  }
 ],
 "metadata": {
  "kernelspec": {
   "display_name": "cvxpy_env",
   "language": "python",
   "name": "python3"
  },
  "language_info": {
   "codemirror_mode": {
    "name": "ipython",
    "version": 3
   },
   "file_extension": ".py",
   "mimetype": "text/x-python",
   "name": "python",
   "nbconvert_exporter": "python",
   "pygments_lexer": "ipython3",
   "version": "3.11.6"
  }
 },
 "nbformat": 4,
 "nbformat_minor": 2
}
