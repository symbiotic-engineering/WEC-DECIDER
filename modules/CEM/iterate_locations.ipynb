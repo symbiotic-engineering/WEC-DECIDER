{
 "cells": [
  {
   "cell_type": "markdown",
   "metadata": {},
   "source": [
    "This script exists to couple powergenome (which sweeps location, year, and grid demand scenario to create different template folders)\n",
    "with the batch csv caserunner (which sweeps carbon constraint, WEC cost, and WEC power limit to create a different replacement.csv for each location).\n",
    "Notice that location is swept in both powergenome and caserunner, so this script also covers that interaction."
   ]
  },
  {
   "cell_type": "code",
   "execution_count": null,
   "metadata": {},
   "outputs": [],
   "source": [
    "import subprocess\n",
    "from pathlib import Path\n",
    "import os\n",
    "from juliacall import Main as jl\n",
    "import subprocess\n",
    "import os\n",
    "import sys\n"
   ]
  },
  {
   "cell_type": "code",
   "execution_count": 2,
   "metadata": {},
   "outputs": [],
   "source": [
    "# cd to WEC-DECIDER\n",
    "# os.chdir('./../..')"
   ]
  },
  {
   "cell_type": "code",
   "execution_count": 5,
   "metadata": {},
   "outputs": [
    {
     "name": "stdout",
     "output_type": "stream",
     "text": [
      "/Users/kuankhaixin/PowerGenome/tests/data(CA)\n"
     ]
    }
   ],
   "source": [
    "!pwd\n",
    "\n",
    "# paths\n",
    "pg_script = \"./get-powergenome-data.sh\"\n",
    "pg_output = \"./results\"\n",
    "\n",
    "#subprocess.run([\"bash\",pg_script]) # run power genome to generate all template folders\n",
    "\n",
    "# locations\n",
    "# locs =[\"CAISO\"]\n",
    "locs =[\"CAISO\"]\n",
    "pg_id = 0\n",
    "\n",
    "for loc in locs:\n",
    "    template_folders = Path(pg_output).glob('**/'+loc)\n",
    "    #print(list(template_folders))\n",
    "    for template_folder in template_folders:\n",
    "        print(template_folder)\n",
    "        # jl.seval(\"\"\"cd(\"modules/CEM\")\"\"\")\n",
    "        jl.seval(\"\"\"Pkg.instantiate()\"\"\")\n",
    "        jl.seval(\"\"\"Pkg.status()\"\"\")\n",
    "        jl.seval(\"\"\"Pkg.project()\"\"\")\n",
    "        \n",
    "        jl.seval(\"\"\"include(\"case_runner_new.jl\")\"\"\")\n",
    "        jl.seval(\"\"\"run_caserunner(\" \"\"\" + str(pg_id) + \"\"\" \", \" \"\"\" + loc + \"\"\" \")\"\"\")\n",
    "        pg_id += 1\n",
    "        # run caserunner with the replacement.csv which corresponds to the proper location.\n",
    "    "
   ]
  },
  {
   "cell_type": "code",
   "execution_count": 3,
   "metadata": {},
   "outputs": [
    {
     "name": "stdout",
     "output_type": "stream",
     "text": [
      "Template folders found for CAISO : []\n"
     ]
    }
   ],
   "source": [
    "\n",
    "print(\"Template folders found for\", loc, \":\", list(template_folders))"
   ]
  },
  {
   "cell_type": "markdown",
   "metadata": {},
   "source": [
    "The script below is running 3rd party caserunner. To run this file, uncomment \n",
    "include(\"/Users/kuankhaixin/WEC-DECIDER/modules/CEM/caserunner_v1.jl\") in Run.jl. "
   ]
  },
  {
   "cell_type": "code",
   "execution_count": null,
   "metadata": {},
   "outputs": [
    {
     "name": "stdout",
     "output_type": "stream",
     "text": [
      "Running GenX for case: case_1_0...\n",
      "  Activating project at `~/WEC-DECIDER/modules/CEM`\n",
      "    Building Gurobi → `~/.julia/scratchspaces/44cfe95a-1eb2-52ea-b672-e2afdf69b78f/0af671809e0cde0131a2f8607397197fd3648084/build.log`\n",
      "Case 1 now creating\n",
      "Case 2 now creating\n",
      "Case 3 now creating\n",
      "Case 4 now creating\n",
      "Case 5 now creating\n",
      "Case 6 now creating\n",
      "Case 7 now creating\n",
      "Case 8 now creating\n",
      "Case 9 now creating\n",
      "Case 10 now creating\n",
      "Case 11 now creating\n",
      "Case 12 now creating\n",
      "Case 13 now creating\n",
      "Case 14 now creating\n",
      "Case 15 now creating\n",
      "Case 16 now creating\n",
      "Case 17 now creating\n",
      "Case 18 now creating\n",
      "Case 19 now creating\n",
      "Case 20 now creating\n",
      "Case 21 now creating\n",
      "Case 22 now creating\n",
      "Case 23 now creating\n",
      "Case 24 now creating\n",
      "Case 25 now creating\n"
     ]
    },
    {
     "data": {
      "text/plain": [
       "0"
      ]
     },
     "execution_count": 44,
     "metadata": {},
     "output_type": "execute_result"
    }
   ],
   "source": [
    "\n",
    "# Determine the root directory of the project \n",
    "if \"__file__\" in globals():\n",
    "    # Script context\n",
    "    script_dir = os.path.dirname(os.path.abspath(__file__))\n",
    "else:\n",
    "    script_dir = os.getcwd()\n",
    "\n",
    "\n",
    "root_dir = os.path.abspath(os.path.join(script_dir, \"..\", \"..\")) \n",
    "cem_dir = os.path.join(root_dir, \"modules\", \"CEM\")\n",
    "case_folder = \"case_1_0\"\n",
    "run_file_path = os.path.join(cem_dir, \"Cases\", case_folder, \"Run.jl\")\n",
    "julia_project_path = cem_dir  \n",
    "\n",
    "# Check that Run.jl exists\n",
    "if not os.path.exists(run_file_path):\n",
    "    print(f\" Error: Run.jl not found at {run_file_path}\")\n",
    "    sys.exit(1)\n",
    "\n",
    "# Launch Julia\n",
    "print(f\" Running GenX for case: {case_folder}...\")\n",
    "\n",
    "process = subprocess.Popen(\n",
    "    [\"julia\", f\"--project={julia_project_path}\", run_file_path],\n",
    "    cwd=root_dir,\n",
    "    stdout=subprocess.PIPE,\n",
    "    stderr=subprocess.STDOUT,  # Merge stderr into stdout\n",
    "    text=True,\n",
    "    bufsize=1  # Line-buffered\n",
    ")\n",
    "\n",
    "# Stream all output\n",
    "for line in process.stdout:\n",
    "    print(line, end=\"\")\n",
    "\n",
    "process.wait()\n",
    "\n"
   ]
  },
  {
   "cell_type": "markdown",
   "metadata": {},
   "source": [
    "The script below is running GenX original caserunner. To run this file, uncomment \n",
    "run_genx_case!(dirname(@__FILE__), Gurobi.Optimizer) in Run.jl. \n"
   ]
  },
  {
   "cell_type": "code",
   "execution_count": 15,
   "metadata": {},
   "outputs": [
    {
     "name": "stdout",
     "output_type": "stream",
     "text": [
      "Running GenX for case: case_1_0...\n",
      "\n",
      "  ____           __  __   _ _\n",
      " / ___| ___ _ __ \\ \\/ /  (_) |\n",
      "| |  _ / _ \\ '_ \\ \\  /   | | |\n",
      "| |_| |  __/ | | |/  \\ _ | | |\n",
      " \\____|\\___|_| |_/_/\\_(_)/ |_|\n",
      "                       |__/\n",
      " Version: 0.4.4\n",
      "\n",
      "Configuring Settings\n",
      "Configuring Solver\n",
      "Loading Inputs\n",
      "Reading Input CSV Files\n",
      "Reading DC-OPF values...\n",
      "\n",
      " Julia stderr:\n",
      "  Activating project at `~/WEC-DECIDER/modules/CEM`\n",
      "    Building Gurobi → `~/.julia/scratchspaces/44cfe95a-1eb2-52ea-b672-e2afdf69b78f/0af671809e0cde0131a2f8607397197fd3648084/build.log`\n",
      "┌ Warning: Specifying the network map as a matrix is deprecated as of v0.4\n",
      "│ and will be removed in v0.5. Instead, use the more compact list-style format.\n",
      "│ \n",
      "│ ..., Network_Lines, Start_Zone, End_Zone, ...\n",
      "│                  1,          1,        2,\n",
      "│                  2,          1,        3,\n",
      "│                  3,          2,        3,\n",
      "└ @ GenX ~/.julia/packages/GenX/SND5y/src/load_inputs/load_network_data.jl:175\n",
      "ERROR: LoadError: ArgumentError: column name :Line_Reactance_Ohms not found in the data frame\n",
      "Stacktrace:\n",
      "  [1] lookupname\n",
      "    @ ~/.julia/packages/DataFrames/kcA9R/src/other/index.jl:431 [inlined]\n",
      "  [2] getindex\n",
      "    @ ~/.julia/packages/DataFrames/kcA9R/src/other/index.jl:440 [inlined]\n",
      "  [3] getindex(df::DataFrames.DataFrame, ::typeof(!), col_ind::Symbol)\n",
      "    @ DataFrames ~/.julia/packages/DataFrames/kcA9R/src/dataframe/dataframe.jl:557\n",
      "  [4] (::GenX.var\"#as_vector#22\"{DataFrames.DataFrame})(col::Symbol)\n",
      "    @ GenX ~/.julia/packages/GenX/SND5y/src/load_inputs/load_network_data.jl:12\n",
      "  [5] (::GenX.var\"#to_floats#23\"{GenX.var\"#as_vector#22\"{DataFrames.DataFrame}})(col::Symbol)\n",
      "    @ GenX ~/.julia/packages/GenX/SND5y/src/load_inputs/load_network_data.jl:13\n",
      "  [6] load_network_data!(setup::Dict{Any, Any}, path::String, inputs_nw::Dict{Any, Any})\n",
      "    @ GenX ~/.julia/packages/GenX/SND5y/src/load_inputs/load_network_data.jl:48\n",
      "  [7] load_inputs(setup::Dict{Any, Any}, path::String)\n",
      "    @ GenX ~/.julia/packages/GenX/SND5y/src/load_inputs/load_inputs.jl:24\n",
      "  [8] run_genx_case_simple!(case::String, mysetup::Dict{Any, Any}, optimizer::Type)\n",
      "    @ GenX ~/.julia/packages/GenX/SND5y/src/case_runners/case_runner.jl:76\n",
      "  [9] run_genx_case!(case::String, optimizer::Type)\n",
      "    @ GenX ~/.julia/packages/GenX/SND5y/src/case_runners/case_runner.jl:38\n",
      " [10] top-level scope\n",
      "    @ ~/WEC-DECIDER/modules/CEM/Cases/case_1_0/Run.jl:22\n",
      "in expression starting at /Users/kuankhaixin/WEC-DECIDER/modules/CEM/Cases/case_1_0/Run.jl:22\n",
      "\n"
     ]
    }
   ],
   "source": [
    "\n",
    "# Determine root_dir\n",
    "if \"__file__\" in globals():\n",
    "    # Running as a script\n",
    "    script_dir = os.path.dirname(os.path.abspath(__file__))\n",
    "else:\n",
    "    script_dir = os.getcwd()\n",
    "\n",
    "# Traverse up to WEC-DECIDER root\n",
    "root_dir = os.path.abspath(os.path.join(script_dir, \"..\", \"..\"))  \n",
    "cem_dir = os.path.join(root_dir, \"modules\", \"CEM\")\n",
    "case_folder = \"case_1_0\"\n",
    "run_file_path = os.path.join(cem_dir, \"Cases\", case_folder, \"Run.jl\")\n",
    "julia_project_path = cem_dir  \n",
    "\n",
    "# Confirm the script exists\n",
    "if not os.path.exists(run_file_path):\n",
    "    print(f\"Run.jl not found at {run_file_path}\")\n",
    "else:\n",
    "    print(f\"Running GenX for case: {case_folder}...\\n\")\n",
    "\n",
    "    process = subprocess.Popen(\n",
    "        [\"julia\", f\"--project={julia_project_path}\", run_file_path],\n",
    "        cwd=root_dir,\n",
    "        stdout=subprocess.PIPE,\n",
    "        stderr=subprocess.PIPE,\n",
    "        text=True\n",
    "    )\n",
    "\n",
    "    # Live stdout printing\n",
    "    for line in process.stdout:\n",
    "        print(line, end=\"\")\n",
    "\n",
    "    stdout, stderr = process.communicate()\n",
    "\n",
    "    if stderr.strip():\n",
    "        print(\"\\n Julia stderr:\")\n",
    "        print(stderr)\n",
    "\n"
   ]
  }
 ],
 "metadata": {
  "kernelspec": {
   "display_name": "wec-decider",
   "language": "python",
   "name": "python3"
  },
  "language_info": {
   "codemirror_mode": {
    "name": "ipython",
    "version": 3
   },
   "file_extension": ".py",
   "mimetype": "text/x-python",
   "name": "python",
   "nbconvert_exporter": "python",
   "pygments_lexer": "ipython3",
   "version": "3.9.19"
  }
 },
 "nbformat": 4,
 "nbformat_minor": 2
}
