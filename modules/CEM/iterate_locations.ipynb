{
 "cells": [
  {
   "cell_type": "markdown",
   "metadata": {},
   "source": [
    "This script exists to couple powergenome (which sweeps location, year, and grid demand scenario to create different template folders)\n",
    "with the batch csv caserunner (which sweeps carbon constraint, WEC cost, and WEC power limit to create a different replacement.csv for each location).\n",
    "Notice that location is swept in both powergenome and caserunner, so this script also covers that interaction."
   ]
  },
  {
   "cell_type": "code",
   "execution_count": 16,
   "metadata": {},
   "outputs": [],
   "source": [
    "import subprocess\n",
    "from pathlib import Path\n",
    "import os\n",
    "from juliacall import Main as jl\n"
   ]
  },
  {
   "cell_type": "code",
   "execution_count": 17,
   "metadata": {},
   "outputs": [],
   "source": [
    "# cd to WEC-DECIDER\n",
    "os.chdir('./../..')"
   ]
  },
  {
   "cell_type": "code",
   "execution_count": 18,
   "metadata": {},
   "outputs": [
    {
     "name": "stdout",
     "output_type": "stream",
     "text": [
      "/home/becca/Documents/git/WEC-DECIDER\n"
     ]
    },
    {
     "name": "stdout",
     "output_type": "stream",
     "text": [
      "modules/CEM/results/2040/CAISO\n",
      "Status `~/miniconda3/envs/wec-decider-2/julia_env/Project.toml`\n",
      "  [336ed68f] CSV v0.10.14\n",
      "  [a93c6f00] DataFrames v1.6.1\n",
      "  [5d317b1e] GenX v0.4.0 `https://github.com/GenXProject/GenX.jl#main`\n",
      "  [2e9cd046] Gurobi v1.2.3\n",
      "  [6099a3de] PythonCall v0.9.19\n",
      "  [ddb6d928] YAML v0.4.9\n"
     ]
    },
    {
     "ename": "JuliaError",
     "evalue": "UndefVarError: `replacements_df` not defined\nStacktrace:\n [1] launch_new_cases()\n   @ Main ~/Documents/git/WEC-DECIDER/modules/CEM/caserunner.jl:388\n [2] run_caserunner(pg_id::String, location::String)\n   @ Main ~/Documents/git/WEC-DECIDER/modules/CEM/caserunner.jl:31\n [3] top-level scope\n   @ none:1\n [4] eval\n   @ ./boot.jl:385 [inlined]\n [5] eval\n   @ ./Base.jl:88 [inlined]\n [6] pyjlmodule_seval(self::Module, expr::Py)\n   @ PythonCall.JlWrap ~/.julia/packages/PythonCall/bb3ax/src/JlWrap/module.jl:13\n [7] _pyjl_callmethod(f::Any, self_::Ptr{PythonCall.C.PyObject}, args_::Ptr{PythonCall.C.PyObject}, nargs::Int64)\n   @ PythonCall.JlWrap ~/.julia/packages/PythonCall/bb3ax/src/JlWrap/base.jl:66\n [8] _pyjl_callmethod(o::Ptr{PythonCall.C.PyObject}, args::Ptr{PythonCall.C.PyObject})\n   @ PythonCall.JlWrap.Cjl ~/.julia/packages/PythonCall/bb3ax/src/JlWrap/C.jl:63",
     "output_type": "error",
     "traceback": [
      "\u001b[0;31m---------------------------------------------------------------------------\u001b[0m",
      "\u001b[0;31mJuliaError\u001b[0m                                Traceback (most recent call last)",
      "Cell \u001b[0;32mIn[18], line 24\u001b[0m\n\u001b[1;32m     21\u001b[0m jl\u001b[38;5;241m.\u001b[39mseval(\u001b[38;5;124m\"\"\"\u001b[39m\u001b[38;5;124mPkg.project()\u001b[39m\u001b[38;5;124m\"\"\"\u001b[39m)\n\u001b[1;32m     23\u001b[0m jl\u001b[38;5;241m.\u001b[39mseval(\u001b[38;5;124m\"\"\"\u001b[39m\u001b[38;5;124minclude(\u001b[39m\u001b[38;5;124m\"\u001b[39m\u001b[38;5;124mcaserunner.jl\u001b[39m\u001b[38;5;124m\"\u001b[39m\u001b[38;5;124m)\u001b[39m\u001b[38;5;124m\"\"\"\u001b[39m)\n\u001b[0;32m---> 24\u001b[0m \u001b[43mjl\u001b[49m\u001b[38;5;241;43m.\u001b[39;49m\u001b[43mseval\u001b[49m\u001b[43m(\u001b[49m\u001b[38;5;124;43m\"\"\"\u001b[39;49m\u001b[38;5;124;43mrun_caserunner(\u001b[39;49m\u001b[38;5;124;43m\"\u001b[39;49m\u001b[38;5;124;43m \u001b[39;49m\u001b[38;5;124;43m\"\"\"\u001b[39;49m\u001b[43m \u001b[49m\u001b[38;5;241;43m+\u001b[39;49m\u001b[43m \u001b[49m\u001b[38;5;28;43mstr\u001b[39;49m\u001b[43m(\u001b[49m\u001b[43mpg_id\u001b[49m\u001b[43m)\u001b[49m\u001b[43m \u001b[49m\u001b[38;5;241;43m+\u001b[39;49m\u001b[43m \u001b[49m\u001b[38;5;124;43m\"\"\"\u001b[39;49m\u001b[38;5;124;43m \u001b[39;49m\u001b[38;5;124;43m\"\u001b[39;49m\u001b[38;5;124;43m, \u001b[39;49m\u001b[38;5;124;43m\"\u001b[39;49m\u001b[38;5;124;43m \u001b[39;49m\u001b[38;5;124;43m\"\"\"\u001b[39;49m\u001b[43m \u001b[49m\u001b[38;5;241;43m+\u001b[39;49m\u001b[43m \u001b[49m\u001b[43mloc\u001b[49m\u001b[43m \u001b[49m\u001b[38;5;241;43m+\u001b[39;49m\u001b[43m \u001b[49m\u001b[38;5;124;43m\"\"\"\u001b[39;49m\u001b[38;5;124;43m \u001b[39;49m\u001b[38;5;124;43m\"\u001b[39;49m\u001b[38;5;124;43m)\u001b[39;49m\u001b[38;5;124;43m\"\"\"\u001b[39;49m\u001b[43m)\u001b[49m\n\u001b[1;32m     25\u001b[0m pg_id \u001b[38;5;241m+\u001b[39m\u001b[38;5;241m=\u001b[39m \u001b[38;5;241m1\u001b[39m\n",
      "File \u001b[0;32m~/.julia/packages/PythonCall/bb3ax/src/JlWrap/module.jl:25\u001b[0m, in \u001b[0;36mseval\u001b[0;34m(self, expr)\u001b[0m\n\u001b[1;32m     23\u001b[0m         return ValueBase.__dir__(self) + self._jl_callmethod($(pyjl_methodnum(pyjlmodule_dir)))\n\u001b[1;32m     24\u001b[0m     def seval(self, expr):\n\u001b[0;32m---> 25\u001b[0m         return self._jl_callmethod($(pyjl_methodnum(pyjlmodule_seval)), expr)\n\u001b[1;32m     26\u001b[0m \"\"\", @__FILE__(), \"exec\"), jl.__dict__)\n\u001b[1;32m     27\u001b[0m pycopy!(pyjlmoduletype, jl.ModuleValue)\n",
      "\u001b[0;31mJuliaError\u001b[0m: UndefVarError: `replacements_df` not defined\nStacktrace:\n [1] launch_new_cases()\n   @ Main ~/Documents/git/WEC-DECIDER/modules/CEM/caserunner.jl:388\n [2] run_caserunner(pg_id::String, location::String)\n   @ Main ~/Documents/git/WEC-DECIDER/modules/CEM/caserunner.jl:31\n [3] top-level scope\n   @ none:1\n [4] eval\n   @ ./boot.jl:385 [inlined]\n [5] eval\n   @ ./Base.jl:88 [inlined]\n [6] pyjlmodule_seval(self::Module, expr::Py)\n   @ PythonCall.JlWrap ~/.julia/packages/PythonCall/bb3ax/src/JlWrap/module.jl:13\n [7] _pyjl_callmethod(f::Any, self_::Ptr{PythonCall.C.PyObject}, args_::Ptr{PythonCall.C.PyObject}, nargs::Int64)\n   @ PythonCall.JlWrap ~/.julia/packages/PythonCall/bb3ax/src/JlWrap/base.jl:66\n [8] _pyjl_callmethod(o::Ptr{PythonCall.C.PyObject}, args::Ptr{PythonCall.C.PyObject})\n   @ PythonCall.JlWrap.Cjl ~/.julia/packages/PythonCall/bb3ax/src/JlWrap/C.jl:63"
     ]
    }
   ],
   "source": [
    "!pwd\n",
    "\n",
    "# paths\n",
    "pg_script = \"modules/CEM/get-powergenome-data.sh\"\n",
    "pg_output = \"modules/CEM/results\"\n",
    "\n",
    "#subprocess.run([\"bash\",pg_script]) # run power genome to generate all template folders\n",
    "\n",
    "# locations\n",
    "locs =[\"Northwest\",\"CAISO\",\"ISONE_NYISO\",\"PJM\",\"Southeast\"]\n",
    "pg_id = 0\n",
    "\n",
    "for loc in locs:\n",
    "    template_folders = Path(pg_output).glob('**/'+loc)\n",
    "    #print(list(template_folders))\n",
    "    for template_folder in template_folders:\n",
    "        print(template_folder)\n",
    "        jl.seval(\"\"\"cd(\"modules/CEM\")\"\"\")\n",
    "        jl.seval(\"\"\"Pkg.instantiate()\"\"\")\n",
    "        jl.seval(\"\"\"Pkg.status()\"\"\")\n",
    "        jl.seval(\"\"\"Pkg.project()\"\"\")\n",
    "        \n",
    "        jl.seval(\"\"\"include(\"caserunner.jl\")\"\"\")\n",
    "        jl.seval(\"\"\"run_caserunner(\" \"\"\" + str(pg_id) + \"\"\" \", \" \"\"\" + loc + \"\"\" \")\"\"\")\n",
    "        pg_id += 1\n",
    "        # run caserunner with the replacement.csv which corresponds to the proper location.\n",
    "    "
   ]
  }
 ],
 "metadata": {
  "kernelspec": {
   "display_name": "wec-decider-2",
   "language": "python",
   "name": "python3"
  },
  "language_info": {
   "codemirror_mode": {
    "name": "ipython",
    "version": 3
   },
   "file_extension": ".py",
   "mimetype": "text/x-python",
   "name": "python",
   "nbconvert_exporter": "python",
   "pygments_lexer": "ipython3",
   "version": "3.10.13"
  }
 },
 "nbformat": 4,
 "nbformat_minor": 2
}
