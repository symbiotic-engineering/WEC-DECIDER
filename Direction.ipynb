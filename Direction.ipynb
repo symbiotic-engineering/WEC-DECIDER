{
 "cells": [
  {
   "cell_type": "code",
   "execution_count": 1,
   "id": "83c17e7c",
   "metadata": {},
   "outputs": [
    {
     "name": "stdout",
     "output_type": "stream",
     "text": [
      "30\n",
      "706.8583470577034\n",
      "West_Coast\n",
      "Column names in Hs: Index(['mean_wave_direction_0'], dtype='object')\n",
      "Overall Max Energy: 1956624.1\n"
     ]
    }
   ],
   "source": [
    "%matplotlib inline\n",
    "import mhkit\n",
    "import gridstatus\n",
    "import numpy as np\n",
    "import numpy_financial as npf\n",
    "import pandas as pd\n",
    "import requests\n",
    "import io\n",
    "import matplotlib.pyplot as plt\n",
    "#import PySAM.Pvwattsv8 as pv\n",
    "#import PySAM.Windpower as wd\n",
    "\n",
    "from mhkit import wave \n",
    "lat_lon = [44.624076,-124.280097]\n",
    "[ED, AP] = mhkit.river.performance.circular(30)\n",
    "print(ED)\n",
    "print(AP)\n",
    "region = mhkit.wave.io.hindcast.hindcast.region_selection(lat_lon)\n",
    "print(region)\n",
    "\n",
    "data_type = '1-hour' # setting the data type to the 3-hour dataset\n",
    "years = [1995]\n",
    "lat_lon = (44.624076,-124.280097)\n",
    "parameter = 'mean_wave_direction'\n",
    "\n",
    "Hs, metadata= wave.io.hindcast.hindcast.request_wpto_point_data(data_type,parameter,lat_lon,years)\n",
    "print(\"Column names in Hs:\", Hs.columns)\n",
    "\n",
    "E_wave_column_name = 'mean_wave_direction_0'\n",
    "E_wave = Hs[E_wave_column_name]\n",
    "max_energies = []\n",
    "\n",
    "\n",
    "# Iterate over angles from 0 to 360 in steps of 30 degrees\n",
    "for theta in range(0, 361, 30):\n",
    "    E_all = E_wave * np.sin(theta)\n",
    "    #Gives a matrix of size ntimesteps x nthetas\n",
    "    E_all = E_wave * np.sin(np.radians(theta))  # Convert degrees to radians\n",
    "\n",
    "    # Gives a scalar\n",
    "    E_sum = np.sum(E_all)\n",
    "\n",
    "    # Append the maximum energy for the current wave direction 'theta' to the list\n",
    "    max_energies.append(E_sum)\n",
    "\n",
    "# Now 'max_energies' contains the energy for each angle\n",
    "overall_max_energy = max(max_energies)\n",
    "print(\"Overall Max Energy:\", overall_max_energy)"
   ]
  },
  {
   "cell_type": "code",
   "execution_count": null,
   "id": "320d5abd",
   "metadata": {},
   "outputs": [],
   "source": []
  }
 ],
 "metadata": {
  "kernelspec": {
   "display_name": "Python [conda env:econ3]",
   "language": "python",
   "name": "conda-env-econ3-py"
  },
  "language_info": {
   "codemirror_mode": {
    "name": "ipython",
    "version": 3
   },
   "file_extension": ".py",
   "mimetype": "text/x-python",
   "name": "python",
   "nbconvert_exporter": "python",
   "pygments_lexer": "ipython3",
   "version": "3.9.15"
  }
 },
 "nbformat": 4,
 "nbformat_minor": 5
}
