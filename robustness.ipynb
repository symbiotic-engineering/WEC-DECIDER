{
 "cells": [
  {
   "cell_type": "code",
   "execution_count": null,
   "metadata": {},
   "outputs": [],
   "source": [
    "from pathlib import Path\n",
    "import os\n",
    "from juliacall import Main as jl\n",
    "import matplotlib.pyplot as plt\n",
    "import numpy as np\n",
    "from mhkit import wave\n",
    "import pandas as pd"
   ]
  },
  {
   "cell_type": "code",
   "execution_count": null,
   "metadata": {},
   "outputs": [],
   "source": [
    "# cd to WEC-DECIDER\n",
    "os.chdir('./../..')"
   ]
  },
  {
   "cell_type": "code",
   "execution_count": null,
   "metadata": {},
   "outputs": [],
   "source": [
    "\n",
    "maine = (42.583, -69.882)\n",
    "n_carolina = (34.339, -76.632)\n",
    "oregon = (43.682, -124.980)\n",
    "hawaii = (20.515, -158.476)\n",
    "locs = [maine, n_carolina, oregon, hawaii]\n",
    "\n",
    "wave_years = [2008, 2009, 2010]\n",
    "carbon_constraints = [0, 1]\n",
    "wns = [0.8, 1, 1.2]\n",
    "zetas = [0.1, 0.3, 0.5]\n",
    "forces = [1e5, 1e6, 1e7]"
   ]
  },
  {
   "cell_type": "code",
   "execution_count": null,
   "metadata": {},
   "outputs": [],
   "source": [
    "def run_sim(loc,wave_year,carb,wn,zeta,force):\n",
    "    wave_resource = wave_data_from_mhkit(loc, wave_year)\n",
    "    CW = capture_width_from_dynamics_controls(wn, zeta, force)\n",
    "    power_matrix = wave_resource * CW # use mhkit here\n",
    "    wave_built = run_GenX(power_matrix, carb)\n",
    "\n",
    "def wave_data_from_mhkit(lat_lon, wave_year):\n",
    "    data_type = '1-hour'\n",
    "    parameter = 'omni-directional_wave_power'\n",
    "    data, metadata = wave.io.hindcast.hindcast.request_wpto_point_data(data_type,parameter,lat_lon,wave_year)\n",
    "    data_mod = data\n",
    "    data_mod[\"Avail\"] = data[\"omni-directional_wave_power_0\"] / np.max(data[\"omni-directional_wave_power_0\"]) \n",
    "    P_lim_list = np.concatenate( (np.linspace(0.005, 0.025, num=5), np.linspace(0.03, 0.09, num=7), np.linspace(0.1,0.9,num=9)) )\n",
    "\n",
    "    for P_limit in P_lim_list:\n",
    "        key = \"Avail_limited_\"+str(int(P_limit*1000))\n",
    "        data_mod[key] = np.minimum(data_mod[\"Avail\"], P_limit) / P_limit\n",
    "\n",
    "    means = data_mod.mean()\n",
    "    CFs = np.array(means)[1:]\n",
    "    print(means)\n",
    "    CFs = np.concatenate([CFs[1:],CFs[:1]])\n",
    "    print(CFs)\n",
    "    data_mod.head()\n",
    "\n",
    "def capture_width_from_dynamics_controls(wn, zeta, force):\n",
    "    pass\n",
    "\n",
    "def run_GenX(power_matrix, carb):\n",
    "    jl.seval(\"\"\"cd(\"modules/CEM\")\"\"\")\n",
    "    jl.seval(\"\"\"Pkg.instantiate()\"\"\")\n",
    "    jl.seval(\"\"\"Pkg.status()\"\"\")\n",
    "    jl.seval(\"\"\"Pkg.project()\"\"\")\n",
    "    \n",
    "    jl.seval(\"\"\"include(\"caserunner.jl\")\"\"\")\n",
    "    jl.seval(\"\"\"run_caserunner(\" \"\"\" + str(pg_id) + \"\"\" \", \" \"\"\" + loc + \"\"\" \")\"\"\")\n",
    "    pg_id += 1"
   ]
  },
  {
   "cell_type": "code",
   "execution_count": null,
   "metadata": {},
   "outputs": [],
   "source": [
    "for loc in locs:\n",
    "    for wave_year in wave_years:\n",
    "        for carb in carbon_constraints:\n",
    "            for wn in wns:\n",
    "                for zeta in zetas:\n",
    "                    for force in forces:\n",
    "                        run_sim(loc,wave_year,carb,wn,zeta,force)"
   ]
  }
 ],
 "metadata": {
  "kernelspec": {
   "display_name": "wec-decider-new-powergenome-2",
   "language": "python",
   "name": "python3"
  },
  "language_info": {
   "name": "python",
   "version": "3.10.13"
  }
 },
 "nbformat": 4,
 "nbformat_minor": 2
}
